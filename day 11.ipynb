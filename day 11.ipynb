{
 "cells": [
  {
   "cell_type": "code",
   "execution_count": 1,
   "metadata": {
    "scrolled": true
   },
   "outputs": [
    {
     "data": {
      "text/plain": [
       "29"
      ]
     },
     "execution_count": 1,
     "metadata": {},
     "output_type": "execute_result"
    }
   ],
   "source": [
    "17+12\n"
   ]
  },
  {
   "cell_type": "code",
   "execution_count": 4,
   "metadata": {},
   "outputs": [
    {
     "name": "stdout",
     "output_type": "stream",
     "text": [
      "enter value 1 23\n",
      "enter another value 67\n",
      "90\n"
     ]
    }
   ],
   "source": [
    "x=int(input(\"enter value 1 \"))\n",
    "y=int(input(\"enter another value \"))\n",
    "print(x+y)"
   ]
  },
  {
   "cell_type": "markdown",
   "metadata": {},
   "source": [
    "### accept three values from user -> name,percent,age"
   ]
  },
  {
   "cell_type": "code",
   "execution_count": 9,
   "metadata": {
    "scrolled": false
   },
   "outputs": [
    {
     "name": "stdout",
     "output_type": "stream",
     "text": [
      "enetr name hj\n",
      "percent90\n",
      "age80\n",
      "my name is hj and my percentage is 90.0 and my age is  80\n"
     ]
    }
   ],
   "source": [
    "y=(input(\"enetr name \"))\n",
    "x=float(input(\"percent\"))\n",
    "z=int(input(\"age\"))\n",
    "print(\"my name is\",y,\"and my percentage is\",x,\"and my age is \",z)"
   ]
  },
  {
   "cell_type": "markdown",
   "metadata": {},
   "source": [
    "\n"
   ]
  },
  {
   "cell_type": "markdown",
   "metadata": {},
   "source": [
    "## condition control statements if else elif"
   ]
  },
  {
   "cell_type": "code",
   "execution_count": 18,
   "metadata": {},
   "outputs": [
    {
     "name": "stdout",
     "output_type": "stream",
     "text": [
      "enter a value 1\n",
      "  odddd \n"
     ]
    }
   ],
   "source": [
    "x=int(input(\"enter a value \"))\n",
    "if(x%2==0):\n",
    "    print(\"the no is even\" )\n",
    "else:\n",
    "    print(\"  odddd \")"
   ]
  },
  {
   "cell_type": "markdown",
   "metadata": {},
   "source": [
    "##  data"
   ]
  },
  {
   "cell_type": "code",
   "execution_count": 20,
   "metadata": {},
   "outputs": [
    {
     "name": "stdout",
     "output_type": "stream",
     "text": [
      "age12\n",
      "not\n"
     ]
    }
   ],
   "source": [
    "x=int(input(\"age\"))\n",
    "if(x>=18 and x<85):\n",
    "    print(\"elegibel\")\n",
    "else:\n",
    "    print(\"not\")"
   ]
  },
  {
   "cell_type": "markdown",
   "metadata": {},
   "source": [
    "# - or +"
   ]
  },
  {
   "cell_type": "code",
   "execution_count": 21,
   "metadata": {},
   "outputs": [
    {
     "name": "stdout",
     "output_type": "stream",
     "text": [
      "no-2\n",
      "negative\n"
     ]
    }
   ],
   "source": [
    "x=int(input(\"no\"))\n",
    "if(x>0):\n",
    "    print(\"positive\")\n",
    "else:\n",
    "    print(\"negative\")"
   ]
  },
  {
   "cell_type": "markdown",
   "metadata": {},
   "source": [
    "# largest value "
   ]
  },
  {
   "cell_type": "code",
   "execution_count": 23,
   "metadata": {},
   "outputs": [
    {
     "name": "stdout",
     "output_type": "stream",
     "text": [
      "no1\n",
      "no2\n",
      "no3\n",
      "3\n"
     ]
    }
   ],
   "source": [
    "x=int(input(\"no\"))\n",
    "z=int(input(\"no\"))\n",
    "y=int(input(\"no\"))\n",
    "if(x>y and x>z):\n",
    "    print(x)\n",
    "elif(y>z and y>x):\n",
    "    print(y)\n",
    "else:\n",
    "    print(z)\n",
    "\n",
    "    "
   ]
  },
  {
   "cell_type": "markdown",
   "metadata": {},
   "source": [
    "# loops\n"
   ]
  },
  {
   "cell_type": "code",
   "execution_count": null,
   "metadata": {},
   "outputs": [],
   "source": []
  }
 ],
 "metadata": {
  "kernelspec": {
   "display_name": "Python 3",
   "language": "python",
   "name": "python3"
  },
  "language_info": {
   "codemirror_mode": {
    "name": "ipython",
    "version": 3
   },
   "file_extension": ".py",
   "mimetype": "text/x-python",
   "name": "python",
   "nbconvert_exporter": "python",
   "pygments_lexer": "ipython3",
   "version": "3.7.3"
  }
 },
 "nbformat": 4,
 "nbformat_minor": 2
}
